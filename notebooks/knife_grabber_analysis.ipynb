{
 "cells": [
  {
   "cell_type": "code",
   "execution_count": null,
   "id": "2d385360-9f35-4aeb-92c0-a72b1153c51e",
   "metadata": {},
   "outputs": [],
   "source": [
    "#coding: utf-8\n",
    "#source activate py39\n",
    "\n",
    "import pandas as pd\n",
    "import numpy as np\n",
    "\n",
    "source_data = '../collect/binance_history/ETHUSDT_binance.csv'\n",
    "df = pd.read_csv(source_data)\n",
    "df['date'] = pd.to_datetime(df['Time']/1000, unit='s').dt.strftime('%Y-%m-%d %H:%M:%S')\n",
    "df['max_low_chg'] = df['low']/df['open'] -1\n",
    "df['next_24h_chg'] = ((df['close'].shift(-24) - df['close']) / df['close']) * 100"
   ]
  },
  {
   "cell_type": "code",
   "execution_count": null,
   "id": "0c51cbca-bced-4265-8c36-8e7fd823fecc",
   "metadata": {},
   "outputs": [],
   "source": [
    "'''\n",
    "TODO:\n",
    "- exit à certains %\n",
    "- exit à certains horizons de temps\n",
    "'''"
   ]
  },
  {
   "cell_type": "code",
   "execution_count": 55,
   "id": "ea1a4c06-2cae-46d5-b116-62cd9e97bcb4",
   "metadata": {},
   "outputs": [
    {
     "name": "stdout",
     "output_type": "stream",
     "text": [
      "Combinaison 1: [{'level': -0.1, 'prorata': 0.44}, {'level': -0.09, 'prorata': 0.08}, {'level': -0.48, 'prorata': 0.4}, {'level': -0.27, 'prorata': 0.01}, {'level': -0.3, 'prorata': 0.03}, {'level': -0.05, 'prorata': 0.04}]\n",
      "Combinaison 2: [{'level': -0.4, 'prorata': 0.06}, {'level': -0.29, 'prorata': 0.08}, {'level': -0.31, 'prorata': 0.58}, {'level': -0.25, 'prorata': 0.16}, {'level': -0.05, 'prorata': 0.07}, {'level': -0.31, 'prorata': 0.01}, {'level': -0.28, 'prorata': 0.02}, {'level': -0.3, 'prorata': 0.01}, {'level': -0.22, 'prorata': 0.01}]\n",
      "Combinaison 3: [{'level': -0.42, 'prorata': 0.73}, {'level': -0.19, 'prorata': 0.16}, {'level': -0.45, 'prorata': 0.01}, {'level': -0.28, 'prorata': 0.1}]\n",
      "Combinaison 4: [{'level': -0.07, 'prorata': 0.85}, {'level': -0.23, 'prorata': 0.08}, {'level': -0.23, 'prorata': 0.01}, {'level': -0.04, 'prorata': 0.01}, {'level': -0.17, 'prorata': 0.01}, {'level': -0.36, 'prorata': 0.01}, {'level': -0.09, 'prorata': 0.01}, {'level': -0.21, 'prorata': 0.01}, {'level': -0.43, 'prorata': 0.01}]\n",
      "Combinaison 5: [{'level': -0.08, 'prorata': 0.71}, {'level': -0.14, 'prorata': 0.22}, {'level': -0.26, 'prorata': 0.02}, {'level': -0.13, 'prorata': 0.03}, {'level': -0.37, 'prorata': 0.01}, {'level': -0.37, 'prorata': 0.01}]\n"
     ]
    }
   ],
   "source": [
    "import random\n",
    "\n",
    "def generate_combinations(num_combinations, min_size, max_size, min_level, max_level):\n",
    "    combinations = []\n",
    "    \n",
    "    for _ in range(num_combinations):\n",
    "        current_size = random.randint(min_size, max_size)\n",
    "        current_list = []\n",
    "        remaining_prorata = 1.0\n",
    "\n",
    "        for i in range(current_size - 1):  # Générer un élément de moins pour contrôler la somme des prorata à la fin\n",
    "            # S'assurer que le prorata généré est > 0 en laissant suffisamment pour les éléments restants\n",
    "            prorata = round(random.uniform(0.01, remaining_prorata - (0.01 * (current_size - i - 1))), 2)\n",
    "            remaining_prorata -= prorata\n",
    "            level = round(random.uniform(min_level, max_level), 2)\n",
    "            current_list.append({'level': level, 'prorata': prorata})\n",
    "\n",
    "        # Ajouter le dernier élément avec le prorata restant pour assurer que la somme soit exactement 1\n",
    "        level = round(random.uniform(min_level, max_level), 2)\n",
    "        current_list.append({'level': level, 'prorata': round(remaining_prorata, 2)})\n",
    "\n",
    "        combinations.append(current_list)\n",
    "    \n",
    "    return combinations\n",
    "\n",
    "# Générer 1000 combinaisons respectant les conditions données\n",
    "generated_combinations = generate_combinations(1000, 3, 10, -0.5, -0.03)\n",
    "\n",
    "# Affichage des 5 premières combinaisons pour vérification\n",
    "for i, combination in enumerate(generated_combinations[:5]):\n",
    "    print(f\"Combinaison {i+1}: {combination}\")\n"
   ]
  },
  {
   "cell_type": "code",
   "execution_count": 66,
   "id": "cfc2278b-7cc6-404a-8e82-1f0d8e460377",
   "metadata": {},
   "outputs": [],
   "source": [
    "generated_combinations = [\n",
    "    [{'level': -0.03, 'prorata': 0.71}, {'level': -0.4, 'prorata': 0.22}, {'level': -0.10, 'prorata': 0.02}],\n",
    "    [{'level': -0.03, 'prorata': 0.5}, {'level': -0.4, 'prorata': 0.5}, {'level': -0.10, 'prorata': 0.02}],\n",
    "    [{'level': -0.03, 'prorata': 0.6}, {'level': -0.4, 'prorata': 0.2}, {'level': -0.10, 'prorata': 0.2}],\n",
    "    [{'level': -0.03, 'prorata': 0.3}, {'level': -0.5, 'prorata': 0.3}, {'level': -0.07, 'prorata': 0.4}],\n",
    "    [{'level': -0.03, 'prorata': 0.5}, {'level': -0.5, 'prorata': 0.2}, {'level': -0.07, 'prorata': 0.2}, {'level': -0.1, 'prorata': 0.2}]\n",
    "]"
   ]
  },
  {
   "cell_type": "code",
   "execution_count": 63,
   "id": "c5f9eb52-4266-43f5-9174-50e32ebe0cdd",
   "metadata": {},
   "outputs": [
    {
     "name": "stdout",
     "output_type": "stream",
     "text": [
      "[{'level': -0.03, 'prorata': 0.71}, {'level': -0.4, 'prorata': 0.22}, {'level': -0.1, 'prorata': 0.02}]\n",
      "[{'level': -0.03, 'prorata': 0.5}, {'level': -0.4, 'prorata': 0.5}, {'level': -0.1, 'prorata': 0.02}]\n",
      "[{'level': -0.03, 'prorata': 0.6}, {'level': -0.4, 'prorata': 0.2}, {'level': -0.1, 'prorata': 0.2}]\n",
      "[{'level': -0.03, 'prorata': 0.3}, {'level': -0.5, 'prorata': 0.3}, {'level': -0.07, 'prorata': 0.4}]\n",
      "[{'level': -0.03, 'prorata': 0.5}, {'level': -0.5, 'prorata': 0.2}, {'level': -0.07, 'prorata': 0.2}, {'level': -0.1, 'prorata': 0.2}]\n",
      "                                         combination           pnl n_sl  \\\n",
      "0  [{'level': -0.03, 'prorata': 0.71}, {'level': ...  74220.918045    1   \n",
      "1  [{'level': -0.03, 'prorata': 0.5}, {'level': -...  52317.688332    1   \n",
      "2  [{'level': -0.03, 'prorata': 0.6}, {'level': -...  64252.070300    1   \n",
      "3  [{'level': -0.03, 'prorata': 0.3}, {'level': -...  33360.477617    1   \n",
      "4  [{'level': -0.03, 'prorata': 0.5}, {'level': -...  54857.035642    1   \n",
      "\n",
      "  n_trades  \n",
      "0       82  \n",
      "1       82  \n",
      "2       82  \n",
      "3       82  \n",
      "4       82  \n"
     ]
    }
   ],
   "source": [
    "\n",
    "max_risk = 10000  # Montant que je suis prêt à perdre au maximum\n",
    "liq = 0.5  # Niveau auquel je suis liquidé\n",
    "\n",
    "df_trades = pd.DataFrame(columns=[\"date\", \"pnl\", \"brokie\"])\n",
    "df_results = pd.DataFrame(columns=[\"combination\", \"pnl\", \"n_sl\", \"n_trades\"])\n",
    "\n",
    "for combination in generated_combinations:\n",
    "    print(combination)\n",
    "    in_trade = 0\n",
    "    avg_price = 0\n",
    "    size = 0\n",
    "    sl = 0\n",
    "    entry_date = 0\n",
    "    brokie = 0\n",
    "    df_trades = df_trades.iloc[0:0]  # Réinitialiser df_trades pour chaque combinaison\n",
    "\n",
    "    for index, row in df.iterrows():\n",
    "        if row['max_low_chg'] < combination[0]['level'] and not in_trade:\n",
    "            sl = row['open'] * (1 - liq)\n",
    "            entry_date = row['date']\n",
    "            for level in combination:\n",
    "                if row['max_low_chg'] < level['level']:\n",
    "                    new_position_size = max_risk * level['prorata'] / (row['open'] * (1 + level['level']) - sl)\n",
    "                    if in_trade:\n",
    "                        avg_price = ((avg_price * size) + (row['open'] * (1 + level['level']) * new_position_size)) / (size + new_position_size)\n",
    "                    else:\n",
    "                        in_trade = 1\n",
    "                        avg_price = row['open'] * (1 + level['level'])\n",
    "                    size += new_position_size\n",
    "                    \n",
    "        if in_trade:\n",
    "            in_trade += 1\n",
    "            if in_trade == 24 or row['low'] < sl:\n",
    "                pnl = (row['close'] - avg_price) * size\n",
    "                new_row = pd.DataFrame({\"date\": [entry_date], \"pnl\": [pnl], \"brokie\": [brokie]}, index=[0])\n",
    "                df_trades = pd.concat([df_trades, new_row], ignore_index=True)\n",
    "                in_trade = 0\n",
    "                size = 0\n",
    "                avg_price = 0\n",
    "                brokie = 0 if row['low'] >= sl else 1\n",
    "\n",
    "    new_row = pd.DataFrame({\"combination\": [str(combination)], \"pnl\": [df_trades['pnl'].sum()], \"n_sl\": [df_trades['brokie'].sum()], \"n_trades\": [df_trades.shape[0]]}, index=[0])\n",
    "    df_results = pd.concat([df_results, new_row], ignore_index=True)\n",
    "\n",
    "print(df_results)\n"
   ]
  },
  {
   "cell_type": "code",
   "execution_count": null,
   "id": "ce91922c-bf56-45c7-b2c0-216e2f007ef8",
   "metadata": {},
   "outputs": [],
   "source": [
    "#df.to_csv('ETHUSDT_binance_ready.csv', index=True)"
   ]
  },
  {
   "cell_type": "code",
   "execution_count": 64,
   "id": "4b190b6d-53a0-4009-92dd-0a5941e58e71",
   "metadata": {},
   "outputs": [
    {
     "name": "stdout",
     "output_type": "stream",
     "text": [
      "74220.91804471251\n"
     ]
    }
   ],
   "source": [
    "print(df_results['pnl'].max())"
   ]
  },
  {
   "cell_type": "code",
   "execution_count": null,
   "id": "7c1a0d5b-3c00-4fd4-bd32-95fa883ba221",
   "metadata": {},
   "outputs": [],
   "source": []
  }
 ],
 "metadata": {
  "kernelspec": {
   "display_name": "Python 3 (ipykernel)",
   "language": "python",
   "name": "python3"
  },
  "language_info": {
   "codemirror_mode": {
    "name": "ipython",
    "version": 3
   },
   "file_extension": ".py",
   "mimetype": "text/x-python",
   "name": "python",
   "nbconvert_exporter": "python",
   "pygments_lexer": "ipython3",
   "version": "3.8.18"
  }
 },
 "nbformat": 4,
 "nbformat_minor": 5
}
